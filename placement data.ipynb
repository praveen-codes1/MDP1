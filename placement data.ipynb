{
 "cells": [
  {
   "cell_type": "code",
   "id": "initial_id",
   "metadata": {
    "collapsed": true,
    "ExecuteTime": {
     "end_time": "2025-08-21T12:48:57.328260Z",
     "start_time": "2025-08-21T12:48:46.161869Z"
    }
   },
   "source": [
    "import pandas as pd\n",
    "import numpy as np\n",
    "import matplotlib.pyplot as plt\n",
    "import seaborn as sns\n",
    "import scipy.stats as stats\n",
    "df=pd.read_csv('plac.csv')\n",
    "print(df.head())"
   ],
   "outputs": [
    {
     "name": "stdout",
     "output_type": "stream",
     "text": [
      "  College_ID   IQ  Prev_Sem_Result  CGPA  Academic_Performance  \\\n",
      "0    CLG0030  107             6.61  6.28                     8   \n",
      "1    CLG0061   97             5.52  5.37                     8   \n",
      "2    CLG0036  109             5.36  5.83                     9   \n",
      "3    CLG0055  122             5.47  5.75                     6   \n",
      "4    CLG0004   96             7.91  7.69                     7   \n",
      "\n",
      "  Internship_Experience  Extra_Curricular_Score  Communication_Skills  \\\n",
      "0                    No                       8                     8   \n",
      "1                    No                       7                     8   \n",
      "2                    No                       3                     1   \n",
      "3                   Yes                       1                     6   \n",
      "4                    No                       8                    10   \n",
      "\n",
      "   Projects_Completed Placement  \n",
      "0                   4        No  \n",
      "1                   0        No  \n",
      "2                   1        No  \n",
      "3                   1        No  \n",
      "4                   2        No  \n"
     ]
    }
   ],
   "execution_count": 4
  },
  {
   "metadata": {
    "ExecuteTime": {
     "end_time": "2025-08-21T12:56:18.535767Z",
     "start_time": "2025-08-21T12:56:18.515588Z"
    }
   },
   "cell_type": "code",
   "source": "print(df.shape)",
   "id": "f062138fb0e483dc",
   "outputs": [
    {
     "name": "stdout",
     "output_type": "stream",
     "text": [
      "(10000, 10)\n"
     ]
    }
   ],
   "execution_count": 6
  },
  {
   "metadata": {
    "ExecuteTime": {
     "end_time": "2025-08-21T12:57:09.473413Z",
     "start_time": "2025-08-21T12:57:09.441498Z"
    }
   },
   "cell_type": "code",
   "source": "df.isnull().sum()",
   "id": "fe8585e2c913915",
   "outputs": [
    {
     "data": {
      "text/plain": [
       "College_ID                0\n",
       "IQ                        0\n",
       "Prev_Sem_Result           0\n",
       "CGPA                      0\n",
       "Academic_Performance      0\n",
       "Internship_Experience     0\n",
       "Extra_Curricular_Score    0\n",
       "Communication_Skills      0\n",
       "Projects_Completed        0\n",
       "Placement                 0\n",
       "dtype: int64"
      ]
     },
     "execution_count": 7,
     "metadata": {},
     "output_type": "execute_result"
    }
   ],
   "execution_count": 7
  },
  {
   "metadata": {
    "ExecuteTime": {
     "end_time": "2025-08-21T13:14:55.739162Z",
     "start_time": "2025-08-21T13:14:55.714618Z"
    }
   },
   "cell_type": "code",
   "source": "df.duplicated().sum()",
   "id": "f09e818cdc424bc5",
   "outputs": [
    {
     "data": {
      "text/plain": [
       "0"
      ]
     },
     "execution_count": 24,
     "metadata": {},
     "output_type": "execute_result"
    }
   ],
   "execution_count": 24
  },
  {
   "metadata": {
    "ExecuteTime": {
     "end_time": "2025-08-21T13:06:56.077764Z",
     "start_time": "2025-08-21T13:06:56.042411Z"
    }
   },
   "cell_type": "code",
   "source": [
    "x=df['IQ'].mean()\n",
    "print(f\"Mean: {x}\")\n",
    "print(f\"Min: {np.min(df['IQ'])}\")\n",
    "print(f\"Min: {np.max(df['IQ'])}\")\n",
    "print(df[df['IQ']==df['IQ'].max()])"
   ],
   "id": "aee2f05f623542d9",
   "outputs": [
    {
     "name": "stdout",
     "output_type": "stream",
     "text": [
      "Mean: 99.4718\n",
      "Min: 41\n",
      "Min: 158\n",
      "     College_ID   IQ  Prev_Sem_Result  CGPA  Academic_Performance  \\\n",
      "2895    CLG0056  158             6.07  5.89                     8   \n",
      "\n",
      "     Internship_Experience  Extra_Curricular_Score  Communication_Skills  \\\n",
      "2895                    No                       5                     8   \n",
      "\n",
      "      Projects_Completed Placement  \n",
      "2895                   3       Yes  \n"
     ]
    }
   ],
   "execution_count": 16
  },
  {
   "metadata": {
    "ExecuteTime": {
     "end_time": "2025-08-21T13:18:43.145624Z",
     "start_time": "2025-08-21T13:18:43.113843Z"
    }
   },
   "cell_type": "code",
   "source": [
    "print(df['CGPA'].sort_values().tail())\n",
    "print(df[df['CGPA']>10])\n",
    "\n",
    "df.loc[df['CGPA']>10,'CGPA']=df['CGPA'].mean()"
   ],
   "id": "2b04165884e1ed8e",
   "outputs": [
    {
     "name": "stdout",
     "output_type": "stream",
     "text": [
      "1068    10.0\n",
      "8107    10.0\n",
      "6277    10.0\n",
      "450     10.0\n",
      "3345    10.0\n",
      "Name: CGPA, dtype: float64\n",
      "Empty DataFrame\n",
      "Columns: [College_ID, IQ, Prev_Sem_Result, CGPA, Academic_Performance, Internship_Experience, Extra_Curricular_Score, Communication_Skills, Projects_Completed, Placement]\n",
      "Index: []\n"
     ]
    }
   ],
   "execution_count": 31
  },
  {
   "metadata": {
    "ExecuteTime": {
     "end_time": "2025-08-21T13:19:23.606375Z",
     "start_time": "2025-08-21T13:19:23.578913Z"
    }
   },
   "cell_type": "code",
   "source": "df['CGPA'].mean()",
   "id": "3f3cb7bca1a782d",
   "outputs": [
    {
     "data": {
      "text/plain": [
       "7.4668522371"
      ]
     },
     "execution_count": 33,
     "metadata": {},
     "output_type": "execute_result"
    }
   ],
   "execution_count": 33
  },
  {
   "metadata": {
    "ExecuteTime": {
     "end_time": "2025-08-21T13:21:57.776236Z",
     "start_time": "2025-08-21T13:21:57.757573Z"
    }
   },
   "cell_type": "code",
   "source": "df.rename(columns={'Prev_Sem_Result':'SGPA','Academic_Performance':'Academ','Internship_Experience':'Interned','Extra_Curricular_Score':'ExtraCurr','Communication_Skills':'Comm','Projects_Completed':'Proj','College_ID':'ID'}, inplace=True)",
   "id": "80fd847901bad796",
   "outputs": [],
   "execution_count": 34
  },
  {
   "metadata": {
    "ExecuteTime": {
     "end_time": "2025-08-21T13:22:22.200186Z",
     "start_time": "2025-08-21T13:22:22.184476Z"
    }
   },
   "cell_type": "code",
   "source": "df.columns",
   "id": "4b88c2bce80a59b",
   "outputs": [
    {
     "data": {
      "text/plain": [
       "Index(['ID', 'IQ', 'SGPA', 'CGPA', 'Academ', 'Interned', 'ExtraCurr', 'Comm',\n",
       "       'Proj', 'Placement'],\n",
       "      dtype='object')"
      ]
     },
     "execution_count": 36,
     "metadata": {},
     "output_type": "execute_result"
    }
   ],
   "execution_count": 36
  },
  {
   "metadata": {
    "ExecuteTime": {
     "end_time": "2025-08-21T13:29:05.457348Z",
     "start_time": "2025-08-21T13:29:05.441609Z"
    }
   },
   "cell_type": "code",
   "source": "display(df['CGPA'].value_counts().sort_values())",
   "id": "eab23daa1258c2e0",
   "outputs": [
    {
     "data": {
      "text/plain": [
       "CGPA\n",
       "4.540000      1\n",
       "4.710000      1\n",
       "4.580000      1\n",
       "4.630000      1\n",
       "4.560000      1\n",
       "           ... \n",
       "9.470000     31\n",
       "7.290000     32\n",
       "6.720000     32\n",
       "9.410000     35\n",
       "7.532379    249\n",
       "Name: count, Length: 547, dtype: int64"
      ]
     },
     "metadata": {},
     "output_type": "display_data"
    }
   ],
   "execution_count": 46
  },
  {
   "metadata": {
    "ExecuteTime": {
     "end_time": "2025-08-21T13:24:20.440404Z",
     "start_time": "2025-08-21T13:24:20.411343Z"
    }
   },
   "cell_type": "code",
   "source": "df['IQ'].sort_values().unique()",
   "id": "2acbc09e1e0b4a88",
   "outputs": [
    {
     "data": {
      "text/plain": [
       "array([ 41,  42,  44,  45,  51,  52,  54,  55,  56,  57,  58,  59,  60,\n",
       "        61,  62,  63,  64,  65,  66,  67,  68,  69,  70,  71,  72,  73,\n",
       "        74,  75,  76,  77,  78,  79,  80,  81,  82,  83,  84,  85,  86,\n",
       "        87,  88,  89,  90,  91,  92,  93,  94,  95,  96,  97,  98,  99,\n",
       "       100, 101, 102, 103, 104, 105, 106, 107, 108, 109, 110, 111, 112,\n",
       "       113, 114, 115, 116, 117, 118, 119, 120, 121, 122, 123, 124, 125,\n",
       "       126, 127, 128, 129, 130, 131, 132, 133, 134, 135, 136, 137, 138,\n",
       "       139, 140, 141, 142, 143, 144, 146, 147, 148, 150, 152, 157, 158],\n",
       "      dtype=int64)"
      ]
     },
     "execution_count": 40,
     "metadata": {},
     "output_type": "execute_result"
    }
   ],
   "execution_count": 40
  },
  {
   "metadata": {
    "ExecuteTime": {
     "end_time": "2025-08-21T13:29:43.852458Z",
     "start_time": "2025-08-21T13:29:43.826369Z"
    }
   },
   "cell_type": "code",
   "source": "display(df['CGPA'].value_counts().sort_values())",
   "id": "cba47c998a91a0b0",
   "outputs": [
    {
     "data": {
      "text/plain": [
       "CGPA\n",
       "4.540000      1\n",
       "4.710000      1\n",
       "4.580000      1\n",
       "4.630000      1\n",
       "4.560000      1\n",
       "           ... \n",
       "9.470000     31\n",
       "7.290000     32\n",
       "6.720000     32\n",
       "9.410000     35\n",
       "7.532379    249\n",
       "Name: count, Length: 547, dtype: int64"
      ]
     },
     "metadata": {},
     "output_type": "display_data"
    }
   ],
   "execution_count": 47
  },
  {
   "metadata": {
    "ExecuteTime": {
     "end_time": "2025-08-21T13:31:32.028532Z",
     "start_time": "2025-08-21T13:31:32.012870Z"
    }
   },
   "cell_type": "code",
   "source": "print(df['SGPA'].apply(lambda x: x>9.50 and x<10))",
   "id": "cf9d03e94428f56e",
   "outputs": [
    {
     "name": "stdout",
     "output_type": "stream",
     "text": [
      "0       False\n",
      "1       False\n",
      "2       False\n",
      "3       False\n",
      "4       False\n",
      "        ...  \n",
      "9995    False\n",
      "9996    False\n",
      "9997    False\n",
      "9998    False\n",
      "9999    False\n",
      "Name: SGPA, Length: 10000, dtype: bool\n"
     ]
    }
   ],
   "execution_count": 50
  }
 ],
 "metadata": {
  "kernelspec": {
   "display_name": "Python 3",
   "language": "python",
   "name": "python3"
  },
  "language_info": {
   "codemirror_mode": {
    "name": "ipython",
    "version": 2
   },
   "file_extension": ".py",
   "mimetype": "text/x-python",
   "name": "python",
   "nbconvert_exporter": "python",
   "pygments_lexer": "ipython2",
   "version": "2.7.6"
  }
 },
 "nbformat": 4,
 "nbformat_minor": 5
}
