{
 "cells": [
  {
   "cell_type": "code",
   "execution_count": null,
   "id": "initial_id",
   "metadata": {
    "collapsed": true
   },
   "outputs": [],
   "source": [
    ""
   ]
  },
  {
   "metadata": {
    "ExecuteTime": {
     "end_time": "2025-08-07T13:41:08.032047Z",
     "start_time": "2025-08-07T13:41:08.012212Z"
    }
   },
   "cell_type": "code",
   "source": [
    "list1=[]\n",
    "s=\"A man, a plan, a canal: Panama\"\n",
    "for l in s:\n",
    "    if l.isalnum():\n",
    "        list1.append(l)\n",
    "s1=''.join(list1)\n",
    "print(list1)\n",
    "s1=s1.lower()\n",
    "print(s1)\n",
    "s2=s1[::-1]\n",
    "print(s2)\n",
    "print(s1==s2)"
   ],
   "id": "506651e081676b3d",
   "outputs": [
    {
     "name": "stdout",
     "output_type": "stream",
     "text": [
      "['A', 'm', 'a', 'n', 'a', 'p', 'l', 'a', 'n', 'a', 'c', 'a', 'n', 'a', 'l', 'P', 'a', 'n', 'a', 'm', 'a']\n",
      "amanaplanacanalpanama\n",
      "amanaplanacanalpanama\n",
      "True\n"
     ]
    }
   ],
   "execution_count": 6
  },
  {
   "metadata": {
    "ExecuteTime": {
     "end_time": "2025-08-18T13:27:05.112851Z",
     "start_time": "2025-08-18T13:27:05.082922Z"
    }
   },
   "cell_type": "code",
   "source": [
    "s= [\"flower\",\"flow\",\"flight\"]\n",
    "if not s:\n",
    "    print(\"\")\n",
    "prefix=s[0]\n",
    "print(prefix)\n",
    "for i in range(1,len(s)):\n",
    "    while not s[i].startswith(prefix):\n",
    "        prefix=prefix[:-1]\n",
    "        print(prefix)\n",
    "        if not prefix:\n",
    "            print(\"\")\n",
    "print(prefix)"
   ],
   "id": "bc1fec76c7aa0ec5",
   "outputs": [
    {
     "name": "stdout",
     "output_type": "stream",
     "text": [
      "flower\n",
      "flowe\n",
      "flow\n",
      "flo\n",
      "fl\n",
      "fl\n"
     ]
    }
   ],
   "execution_count": 9
  },
  {
   "metadata": {
    "ExecuteTime": {
     "end_time": "2025-08-18T13:32:23.176837Z",
     "start_time": "2025-08-18T13:32:23.163880Z"
    }
   },
   "cell_type": "code",
   "source": [
    "nums = [1,1,2]\n",
    "set1=set()\n",
    "for n in nums:\n",
    "    set1.add(n)\n",
    "nums=list(set1)\n",
    "print(nums)\n",
    "print(len(nums))"
   ],
   "id": "c517780078905f38",
   "outputs": [
    {
     "name": "stdout",
     "output_type": "stream",
     "text": [
      "[1, 2]\n",
      "2\n"
     ]
    }
   ],
   "execution_count": 11
  },
  {
   "metadata": {
    "ExecuteTime": {
     "end_time": "2025-08-18T13:39:37.716717Z",
     "start_time": "2025-08-18T13:39:37.694765Z"
    }
   },
   "cell_type": "code",
   "source": [
    "s=set()\n",
    "s.add(0)\n",
    "print(s)\n",
    "s.add(1)\n",
    "print(s)\n",
    "s.add(2)\n",
    "print(s)\n",
    "s.add(-1)\n",
    "print(s)\n",
    "s=sorted(s)\n",
    "s2=list(s)\n",
    "print(s2)"
   ],
   "id": "8e1a743ebaa74c6d",
   "outputs": [
    {
     "name": "stdout",
     "output_type": "stream",
     "text": [
      "{0}\n",
      "{0, 1}\n",
      "{0, 1, 2}\n",
      "{0, 1, 2, -1}\n",
      "[-1, 0, 1, 2]\n"
     ]
    }
   ],
   "execution_count": 15
  },
  {
   "metadata": {
    "ExecuteTime": {
     "end_time": "2025-08-18T13:51:47.436833Z",
     "start_time": "2025-08-18T13:51:47.421165Z"
    }
   },
   "cell_type": "code",
   "source": [
    "haystack = \"sadbutsad\"\n",
    "needle = \"sad\"\n",
    "if needle in haystack:\n",
    "    print(haystack.index(needle))\n",
    "else:\n"
   ],
   "id": "592befe000c8df4a",
   "outputs": [
    {
     "name": "stdout",
     "output_type": "stream",
     "text": [
      "0\n"
     ]
    }
   ],
   "execution_count": 17
  },
  {
   "metadata": {
    "ExecuteTime": {
     "end_time": "2025-08-18T14:47:15.874748Z",
     "start_time": "2025-08-18T14:47:15.632927Z"
    }
   },
   "cell_type": "code",
   "source": [
    "class Solution:\n",
    "    def generate(self, numRows):\n",
    "        res=[[]]\n",
    "        for i in range(numRows):\n",
    "            temp=[]\n",
    "            temp.append(1)\n",
    "            print(temp)\n",
    "            if i>1:\n",
    "                for j in range(1,i):\n",
    "                    last=res.pop()\n",
    "\n",
    "                    temp.append(last[j-1]+last[j])\n",
    "            if i>0:\n",
    "                temp.append(1)\n",
    "            res.append(temp)\n",
    "        return res\n",
    "s=Solution()\n",
    "s.generate(5)"
   ],
   "id": "b4851ee5432ca89a",
   "outputs": [
    {
     "name": "stdout",
     "output_type": "stream",
     "text": [
      "[1]\n",
      "[1]\n",
      "[1]\n",
      "[1]\n"
     ]
    },
    {
     "ename": "IndexError",
     "evalue": "list index out of range",
     "output_type": "error",
     "traceback": [
      "\u001B[1;31m---------------------------------------------------------------------------\u001B[0m",
      "\u001B[1;31mIndexError\u001B[0m                                Traceback (most recent call last)",
      "Cell \u001B[1;32mIn[18], line 17\u001B[0m\n\u001B[0;32m     15\u001B[0m         \u001B[38;5;28;01mreturn\u001B[39;00m res\n\u001B[0;32m     16\u001B[0m s\u001B[38;5;241m=\u001B[39mSolution()\n\u001B[1;32m---> 17\u001B[0m \u001B[43ms\u001B[49m\u001B[38;5;241;43m.\u001B[39;49m\u001B[43mgenerate\u001B[49m\u001B[43m(\u001B[49m\u001B[38;5;241;43m5\u001B[39;49m\u001B[43m)\u001B[49m\n",
      "Cell \u001B[1;32mIn[18], line 11\u001B[0m, in \u001B[0;36mSolution.generate\u001B[1;34m(self, numRows)\u001B[0m\n\u001B[0;32m      9\u001B[0m     \u001B[38;5;28;01mfor\u001B[39;00m j \u001B[38;5;129;01min\u001B[39;00m \u001B[38;5;28mrange\u001B[39m(\u001B[38;5;241m1\u001B[39m,i):\n\u001B[0;32m     10\u001B[0m         last\u001B[38;5;241m=\u001B[39mres\u001B[38;5;241m.\u001B[39mpop()\n\u001B[1;32m---> 11\u001B[0m         temp\u001B[38;5;241m.\u001B[39mappend(\u001B[43mlast\u001B[49m\u001B[43m[\u001B[49m\u001B[43mj\u001B[49m\u001B[38;5;241;43m-\u001B[39;49m\u001B[38;5;241;43m1\u001B[39;49m\u001B[43m]\u001B[49m\u001B[38;5;241m+\u001B[39mlast[j])\n\u001B[0;32m     12\u001B[0m \u001B[38;5;28;01mif\u001B[39;00m i\u001B[38;5;241m>\u001B[39m\u001B[38;5;241m0\u001B[39m:\n\u001B[0;32m     13\u001B[0m     temp\u001B[38;5;241m.\u001B[39mappend(\u001B[38;5;241m1\u001B[39m)\n",
      "\u001B[1;31mIndexError\u001B[0m: list index out of range"
     ]
    }
   ],
   "execution_count": 18
  },
  {
   "metadata": {
    "ExecuteTime": {
     "end_time": "2025-08-18T15:07:51.708344Z",
     "start_time": "2025-08-18T15:07:51.683587Z"
    }
   },
   "cell_type": "code",
   "source": [
    "s=\"abcde\"\n",
    "s1=s[:3]\n",
    "print(s1)"
   ],
   "id": "c10deab9dd4d1cd4",
   "outputs": [
    {
     "name": "stdout",
     "output_type": "stream",
     "text": [
      "abc\n"
     ]
    }
   ],
   "execution_count": 19
  },
  {
   "metadata": {},
   "cell_type": "code",
   "outputs": [],
   "execution_count": null,
   "source": "",
   "id": "dbd49e5f30604cf8"
  }
 ],
 "metadata": {
  "kernelspec": {
   "display_name": "Python 3",
   "language": "python",
   "name": "python3"
  },
  "language_info": {
   "codemirror_mode": {
    "name": "ipython",
    "version": 2
   },
   "file_extension": ".py",
   "mimetype": "text/x-python",
   "name": "python",
   "nbconvert_exporter": "python",
   "pygments_lexer": "ipython2",
   "version": "2.7.6"
  }
 },
 "nbformat": 4,
 "nbformat_minor": 5
}
